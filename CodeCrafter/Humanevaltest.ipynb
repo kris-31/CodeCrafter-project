{
 "cells": [
  {
   "cell_type": "code",
   "execution_count": 3,
   "id": "cb29d5b5",
   "metadata": {},
   "outputs": [
    {
     "name": "stdout",
     "output_type": "stream",
     "text": [
      "Defaulting to user installation because normal site-packages is not writeable\n",
      "Requirement already satisfied: datasets in c:\\users\\cegil\\appdata\\roaming\\python\\python312\\site-packages (2.17.1)\n",
      "Requirement already satisfied: transformers in c:\\users\\cegil\\appdata\\roaming\\python\\python312\\site-packages (4.37.2)\n",
      "Requirement already satisfied: torch in c:\\users\\cegil\\appdata\\roaming\\python\\python312\\site-packages (2.2.0)\n",
      "Requirement already satisfied: execnet in c:\\users\\cegil\\appdata\\roaming\\python\\python312\\site-packages (2.1.1)\n",
      "Requirement already satisfied: filelock in c:\\users\\cegil\\appdata\\roaming\\python\\python312\\site-packages (from datasets) (3.13.1)\n",
      "Requirement already satisfied: numpy>=1.17 in c:\\users\\cegil\\appdata\\roaming\\python\\python312\\site-packages (from datasets) (1.26.4)\n",
      "Requirement already satisfied: pyarrow>=12.0.0 in c:\\users\\cegil\\appdata\\roaming\\python\\python312\\site-packages (from datasets) (15.0.0)\n",
      "Requirement already satisfied: pyarrow-hotfix in c:\\users\\cegil\\appdata\\roaming\\python\\python312\\site-packages (from datasets) (0.6)\n",
      "Requirement already satisfied: dill<0.3.9,>=0.3.0 in c:\\users\\cegil\\appdata\\roaming\\python\\python312\\site-packages (from datasets) (0.3.8)\n",
      "Requirement already satisfied: pandas in c:\\users\\cegil\\appdata\\roaming\\python\\python312\\site-packages (from datasets) (2.2.1)\n",
      "Requirement already satisfied: requests>=2.19.0 in c:\\users\\cegil\\appdata\\roaming\\python\\python312\\site-packages (from datasets) (2.31.0)\n",
      "Requirement already satisfied: tqdm>=4.62.1 in c:\\users\\cegil\\appdata\\roaming\\python\\python312\\site-packages (from datasets) (4.66.2)\n",
      "Requirement already satisfied: xxhash in c:\\users\\cegil\\appdata\\roaming\\python\\python312\\site-packages (from datasets) (3.4.1)\n",
      "Requirement already satisfied: multiprocess in c:\\users\\cegil\\appdata\\roaming\\python\\python312\\site-packages (from datasets) (0.70.16)\n",
      "Requirement already satisfied: fsspec<=2023.10.0,>=2023.1.0 in c:\\users\\cegil\\appdata\\roaming\\python\\python312\\site-packages (from fsspec[http]<=2023.10.0,>=2023.1.0->datasets) (2023.10.0)\n",
      "Requirement already satisfied: aiohttp in c:\\users\\cegil\\appdata\\roaming\\python\\python312\\site-packages (from datasets) (3.9.3)\n",
      "Requirement already satisfied: huggingface-hub>=0.19.4 in c:\\users\\cegil\\appdata\\roaming\\python\\python312\\site-packages (from datasets) (0.20.3)\n",
      "Requirement already satisfied: packaging in c:\\users\\cegil\\appdata\\roaming\\python\\python312\\site-packages (from datasets) (23.2)\n",
      "Requirement already satisfied: pyyaml>=5.1 in c:\\users\\cegil\\appdata\\roaming\\python\\python312\\site-packages (from datasets) (6.0.1)\n",
      "Requirement already satisfied: regex!=2019.12.17 in c:\\users\\cegil\\appdata\\roaming\\python\\python312\\site-packages (from transformers) (2023.12.25)\n",
      "Requirement already satisfied: tokenizers<0.19,>=0.14 in c:\\users\\cegil\\appdata\\roaming\\python\\python312\\site-packages (from transformers) (0.15.2)\n",
      "Requirement already satisfied: safetensors>=0.4.1 in c:\\users\\cegil\\appdata\\roaming\\python\\python312\\site-packages (from transformers) (0.4.2)\n",
      "Requirement already satisfied: typing-extensions>=4.8.0 in c:\\users\\cegil\\appdata\\roaming\\python\\python312\\site-packages (from torch) (4.9.0)\n",
      "Requirement already satisfied: sympy in c:\\users\\cegil\\appdata\\roaming\\python\\python312\\site-packages (from torch) (1.12)\n",
      "Requirement already satisfied: networkx in c:\\users\\cegil\\appdata\\roaming\\python\\python312\\site-packages (from torch) (3.2.1)\n",
      "Requirement already satisfied: jinja2 in c:\\users\\cegil\\appdata\\roaming\\python\\python312\\site-packages (from torch) (3.1.3)\n",
      "Requirement already satisfied: aiosignal>=1.1.2 in c:\\users\\cegil\\appdata\\roaming\\python\\python312\\site-packages (from aiohttp->datasets) (1.3.1)\n",
      "Requirement already satisfied: attrs>=17.3.0 in c:\\users\\cegil\\appdata\\roaming\\python\\python312\\site-packages (from aiohttp->datasets) (23.2.0)\n",
      "Requirement already satisfied: frozenlist>=1.1.1 in c:\\users\\cegil\\appdata\\roaming\\python\\python312\\site-packages (from aiohttp->datasets) (1.4.1)\n",
      "Requirement already satisfied: multidict<7.0,>=4.5 in c:\\users\\cegil\\appdata\\roaming\\python\\python312\\site-packages (from aiohttp->datasets) (6.0.5)\n",
      "Requirement already satisfied: yarl<2.0,>=1.0 in c:\\users\\cegil\\appdata\\roaming\\python\\python312\\site-packages (from aiohttp->datasets) (1.9.4)\n",
      "Requirement already satisfied: charset-normalizer<4,>=2 in c:\\users\\cegil\\appdata\\roaming\\python\\python312\\site-packages (from requests>=2.19.0->datasets) (3.3.2)\n",
      "Requirement already satisfied: idna<4,>=2.5 in c:\\users\\cegil\\appdata\\roaming\\python\\python312\\site-packages (from requests>=2.19.0->datasets) (3.6)\n",
      "Requirement already satisfied: urllib3<3,>=1.21.1 in c:\\users\\cegil\\appdata\\roaming\\python\\python312\\site-packages (from requests>=2.19.0->datasets) (2.2.1)\n",
      "Requirement already satisfied: certifi>=2017.4.17 in c:\\users\\cegil\\appdata\\roaming\\python\\python312\\site-packages (from requests>=2.19.0->datasets) (2024.2.2)\n",
      "Requirement already satisfied: colorama in c:\\users\\cegil\\appdata\\roaming\\python\\python312\\site-packages (from tqdm>=4.62.1->datasets) (0.4.6)\n",
      "Requirement already satisfied: MarkupSafe>=2.0 in c:\\users\\cegil\\appdata\\roaming\\python\\python312\\site-packages (from jinja2->torch) (2.1.5)\n",
      "Requirement already satisfied: python-dateutil>=2.8.2 in c:\\users\\cegil\\appdata\\roaming\\python\\python312\\site-packages (from pandas->datasets) (2.8.2)\n",
      "Requirement already satisfied: pytz>=2020.1 in c:\\users\\cegil\\appdata\\roaming\\python\\python312\\site-packages (from pandas->datasets) (2024.1)\n",
      "Requirement already satisfied: tzdata>=2022.7 in c:\\users\\cegil\\appdata\\roaming\\python\\python312\\site-packages (from pandas->datasets) (2024.1)\n",
      "Requirement already satisfied: mpmath>=0.19 in c:\\users\\cegil\\appdata\\roaming\\python\\python312\\site-packages (from sympy->torch) (1.3.0)\n",
      "Requirement already satisfied: six>=1.5 in c:\\users\\cegil\\appdata\\roaming\\python\\python312\\site-packages (from python-dateutil>=2.8.2->pandas->datasets) (1.16.0)\n"
     ]
    }
   ],
   "source": [
    "# Install required libraries\n",
    "!pip install datasets transformers torch execnet\n"
   ]
  },
  {
   "cell_type": "code",
   "execution_count": null,
   "id": "89a8472a",
   "metadata": {},
   "outputs": [
    {
     "name": "stdout",
     "output_type": "stream",
     "text": [
      "Defaulting to user installation because normal site-packages is not writeable\n",
      "Requirement already satisfied: torch in c:\\users\\cegil\\appdata\\roaming\\python\\python312\\site-packages (2.2.0)\n",
      "Requirement already satisfied: filelock in c:\\users\\cegil\\appdata\\roaming\\python\\python312\\site-packages (from torch) (3.13.1)\n",
      "Requirement already satisfied: typing-extensions>=4.8.0 in c:\\users\\cegil\\appdata\\roaming\\python\\python312\\site-packages (from torch) (4.9.0)\n",
      "Requirement already satisfied: sympy in c:\\users\\cegil\\appdata\\roaming\\python\\python312\\site-packages (from torch) (1.12)\n",
      "Requirement already satisfied: networkx in c:\\users\\cegil\\appdata\\roaming\\python\\python312\\site-packages (from torch) (3.2.1)\n",
      "Requirement already satisfied: jinja2 in c:\\users\\cegil\\appdata\\roaming\\python\\python312\\site-packages (from torch) (3.1.3)\n",
      "Requirement already satisfied: fsspec in c:\\users\\cegil\\appdata\\roaming\\python\\python312\\site-packages (from torch) (2023.10.0)\n",
      "Requirement already satisfied: MarkupSafe>=2.0 in c:\\users\\cegil\\appdata\\roaming\\python\\python312\\site-packages (from jinja2->torch) (2.1.5)\n",
      "Requirement already satisfied: mpmath>=0.19 in c:\\users\\cegil\\appdata\\roaming\\python\\python312\\site-packages (from sympy->torch) (1.3.0)\n"
     ]
    }
   ],
   "source": [
    "!pip install torch\n",
    "!conda install pytorch torchvision torchaudio -c pytorch\n"
   ]
  },
  {
   "cell_type": "code",
   "execution_count": 4,
   "id": "478b6ebb",
   "metadata": {},
   "outputs": [
    {
     "ename": "ModuleNotFoundError",
     "evalue": "No module named 'execnet'",
     "output_type": "error",
     "traceback": [
      "\u001b[1;31m---------------------------------------------------------------------------\u001b[0m",
      "\u001b[1;31mModuleNotFoundError\u001b[0m                       Traceback (most recent call last)",
      "Cell \u001b[1;32mIn[4], line 4\u001b[0m\n\u001b[0;32m      2\u001b[0m \u001b[38;5;28;01mfrom\u001b[39;00m \u001b[38;5;21;01mtransformers\u001b[39;00m \u001b[38;5;28;01mimport\u001b[39;00m T5ForConditionalGeneration, AutoTokenizer\n\u001b[0;32m      3\u001b[0m \u001b[38;5;66;03m# import torch\u001b[39;00m\n\u001b[1;32m----> 4\u001b[0m \u001b[38;5;28;01mimport\u001b[39;00m \u001b[38;5;21;01mexecnet\u001b[39;00m\n\u001b[0;32m      5\u001b[0m \u001b[38;5;28;01mimport\u001b[39;00m \u001b[38;5;21;01msubprocess\u001b[39;00m\n\u001b[0;32m      6\u001b[0m \u001b[38;5;28;01mimport\u001b[39;00m \u001b[38;5;21;01mjson\u001b[39;00m\n",
      "\u001b[1;31mModuleNotFoundError\u001b[0m: No module named 'execnet'"
     ]
    }
   ],
   "source": [
    "from datasets import load_dataset\n",
    "from transformers import T5ForConditionalGeneration, AutoTokenizer\n",
    "# import torch\n",
    "import execnet\n",
    "import subprocess\n",
    "import json\n",
    "import traceback\n",
    "\n",
    "# Load HumanEval dataset\n",
    "dataset = load_dataset(\"D:\\DDrive\\Proposed\\human-eval\")\n",
    "\n",
    "# Set up the model and tokenizer\n",
    "mycheckpoint = \"D:\\DDrive\\Proposed\\Final_Checkpoint\\pytorch_model.bin\"\n",
    "device = \"cuda\" if torch.cuda.is_available() else \"cpu\"\n",
    "\n",
    "tokenizer = AutoTokenizer.from_pretrained(mycheckpoint)\n",
    "model = T5ForConditionalGeneration.from_pretrained(mycheckpoint).to(device)"
   ]
  },
  {
   "cell_type": "code",
   "execution_count": 6,
   "id": "538ad9f1",
   "metadata": {},
   "outputs": [
    {
     "ename": "SyntaxError",
     "evalue": "incomplete input (2169659892.py, line 12)",
     "output_type": "error",
     "traceback": [
      "\u001b[1;36m  Cell \u001b[1;32mIn[6], line 12\u001b[1;36m\u001b[0m\n\u001b[1;33m    ch.send(code_str)\u001b[0m\n\u001b[1;37m                     ^\u001b[0m\n\u001b[1;31mSyntaxError\u001b[0m\u001b[1;31m:\u001b[0m incomplete input\n"
     ]
    }
   ],
   "source": [
    "def execute_code(code_str, test_cases):\n",
    "    # Function to execute the generated code and compare with expected results\n",
    "    try:\n",
    "        # Set up a restricted environment\n",
    "        gw = execnet.makegateway(\"popen//python=python3\")  # Adjust if needed\n",
    "        ch = gw.remote_exec(\"\"\"\n",
    "            import sys\n",
    "            code_str = channel.receive()\n",
    "            exec(code_str)\n",
    "        \"\"\")\n",
    "        \n",
    "        ch.send(code_str)\n"
   ]
  },
  {
   "cell_type": "code",
   "execution_count": null,
   "id": "a264092c",
   "metadata": {},
   "outputs": [],
   "source": [
    " # Check test cases\n",
    "        for test_case in test_cases:\n",
    "            exec_output = eval(test_case['test_input'])\n",
    "            expected_output = test_case['expected_output']\n",
    "\n",
    "            if exec_output != expected_output:\n",
    "                return False, f\"Expected {expected_output}, but got {exec_output}\"\n",
    "\n",
    "        return True, \"All test cases passed\"\n",
    "    except Exception as e:\n",
    "        # Capture and return error messages\n",
    "        return False, str(e)"
   ]
  },
  {
   "cell_type": "code",
   "execution_count": null,
   "id": "543cf0ce",
   "metadata": {},
   "outputs": [],
   "source": [
    "# Generate code and evaluate for each problem\n",
    "results = []\n",
    "for example in dataset['test']:\n",
    "    problem = example['prompt']\n",
    "    inputs = tokenizer.encode(problem, return_tensors=\"pt\").to(device)\n",
    "    outputs = model.generate(inputs, max_length=100)  # Adjust max_length if needed\n",
    "    \n",
    "    generated_code = tokenizer.decode(outputs[0], skip_special_tokens=True)\n",
    "\n",
    "    # Prepare test cases and expected outputs\n",
    "    test_cases = example['test_cases']\n",
    "    \n",
    "    # Execute the generated code and evaluate\n",
    "    success, message = execute_code(generated_code, test_cases)\n",
    "\n",
    "    results.append({\n",
    "        \"problem\": problem,\n",
    "        \"generated_code\": generated_code,\n",
    "        \"success\": success,\n",
    "        \"message\": message\n",
    "    })\n",
    "\n",
    "# Output the evaluation results\n",
    "for result in results:\n",
    "    print(\"Problem:\", result['problem'])\n",
    "    print(\"Generated code:\", result['generated_code'])\n",
    "    print(\"Result:\", \"Passed\" if result['success'] else \"Failed\")\n",
    "    print(\"Details:\", result['message'])\n",
    "    print(\"---\")"
   ]
  }
 ],
 "metadata": {
  "kernelspec": {
   "display_name": "Python 3 (ipykernel)",
   "language": "python",
   "name": "python3"
  },
  "language_info": {
   "codemirror_mode": {
    "name": "ipython",
    "version": 3
   },
   "file_extension": ".py",
   "mimetype": "text/x-python",
   "name": "python",
   "nbconvert_exporter": "python",
   "pygments_lexer": "ipython3",
   "version": "3.11.5"
  }
 },
 "nbformat": 4,
 "nbformat_minor": 5
}
